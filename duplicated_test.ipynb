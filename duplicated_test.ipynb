{
 "cells": [
  {
   "cell_type": "code",
   "execution_count": 6,
   "metadata": {},
   "outputs": [
    {
     "name": "stdout",
     "output_type": "stream",
     "text": [
      "중복 여부를 포함한 데이터프레임:\n",
      "    TxFocusLocCm  NumTxElements  is_duplicate\n",
      "0              2             22             1\n",
      "1              4             43             1\n",
      "2              6             65             1\n",
      "3              8             70             1\n",
      "4             10             70             1\n",
      "5             12             70             1\n",
      "6             15             70             1\n",
      "7             18             70             1\n",
      "8              2             22             0\n",
      "9              4             43             0\n",
      "10             6             65             0\n",
      "11             8             87             0\n",
      "12            10             96             0\n",
      "13            12             96             0\n",
      "14            15             96             0\n",
      "15            18             96             0\n",
      "16             2             22             1\n",
      "17             4             43             1\n",
      "18             6             65             1\n",
      "19             8             70             1\n",
      "20            10             70             1\n",
      "21            12             70             1\n",
      "22            15             70             1\n",
      "23            18             70             1\n"
     ]
    }
   ],
   "source": [
    "import pandas as pd\n",
    "# 데이터 정의\n",
    "data = {\n",
    "    \"RequestDate\": [\"20240508\"] * 24,\n",
    "    \"ProjectName\": [\"Condor\"] * 24,\n",
    "    \"ProjectVersion\": [1] * 24,\n",
    "    \"ProbeName\": [\"5P1\"] * 24,\n",
    "    \"Mode\": [\"B\"] * 16 + [\"M\"] * 8,\n",
    "    \"ExamName\": [\"Renal\"] * 24,\n",
    "    \"SubModeIndex\": [2] * 8 + [3] * 8 + [2] * 8,\n",
    "    \"BeamStyleIndex\": [1] * 24,\n",
    "    \"SysTxFreqIndex\": [5] * 24,\n",
    "    \"TxpgWaveformStyle\": [1] * 24,\n",
    "    \"TxFocusLocCm\": [2, 4, 6, 8, 10, 12, 15, 18] * 3,\n",
    "    \"NumTxElements\": [22, 43, 65, 70, 70, 70, 70, 70, 22, 43, 65, 87, 96, 96, 96, 96, 22, 43, 65, 70, 70, 70, 70, 70],\n",
    "    \"ProbeNumTxCycles\": [2] * 24,\n",
    "    \"IsTxChannelModulationEn\": [0, 0, 0, 0, 0, 0, 0, 0, 1, 1, 1, 1, 1, 1, 1, 1, 0, 0, 0, 0, 0, 0, 0, 0],\n",
    "    \"IsPresetCpaEn\": [0] * 24,\n",
    "    \"CpaDelayOffsetClk\": [0] * 24,\n",
    "    \"TxPulseRle\": [None] * 24,\n",
    "    \"TxpgWaveformLut\": [None] * 24,\n",
    "    \"ElevAperIndex\": [0] * 24,\n",
    "    \"SystemPulserSel\": [None] * 24,\n",
    "    \"VTxIndex\": [1] * 24\n",
    "}\n",
    "# 데이터프레임 생성\n",
    "df = pd.DataFrame(data)\n",
    "# 중복 열 지정\n",
    "cols_to_check = [\n",
    "    \"SysTxFreqIndex\",\n",
    "    \"TxpgWaveformStyle\",\n",
    "    \"ProbeNumTxCycles\",\n",
    "    \"IsTxChannelModulationEn\",\n",
    "    \"IsPresetCpaEn\",\n",
    "    \"ElevAperIndex\",\n",
    "    \"TxFocusLocCm\",\n",
    "    \"NumTxElements\",\n",
    "]\n",
    "# 중복 확인하여 새로운 컬럼 생성\n",
    "df['is_duplicate'] = df.duplicated(subset=cols_to_check, keep=False).astype(int)\n",
    "# 결과 출력\n",
    "print(\"중복 여부를 포함한 데이터프레임:\")\n",
    "print(df[['TxFocusLocCm', 'NumTxElements', 'is_duplicate']])\n",
    "df.to_csv(\"duplicated_file.csv\")"
   ]
  }
 ],
 "metadata": {
  "kernelspec": {
   "display_name": ".venv",
   "language": "python",
   "name": "python3"
  },
  "language_info": {
   "codemirror_mode": {
    "name": "ipython",
    "version": 3
   },
   "file_extension": ".py",
   "mimetype": "text/x-python",
   "name": "python",
   "nbconvert_exporter": "python",
   "pygments_lexer": "ipython3",
   "version": "3.10.10"
  }
 },
 "nbformat": 4,
 "nbformat_minor": 2
}
